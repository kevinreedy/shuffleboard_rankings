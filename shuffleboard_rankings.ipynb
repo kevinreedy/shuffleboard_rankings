{
 "cells": [
  {
   "cell_type": "code",
   "execution_count": 59,
   "metadata": {
    "scrolled": true
   },
   "outputs": [],
   "source": [
    "# Imports\n",
    "\n",
    "import gspread as gs\n",
    "import pandas as pd\n",
    "import numpy as np"
   ]
  },
  {
   "cell_type": "code",
   "execution_count": null,
   "metadata": {},
   "outputs": [],
   "source": [
    "# Match Results Google Sheet\n",
    "sheet_id = \"1RBWOGn_cBeK9qQmSbVz7NE_XGTBwevMVOFWbW9EHGf8\"\n",
    "sheet_name = \"Match_Results_2\"\n",
    "url = f\"https://docs.google.com/spreadsheets/d/{sheet_id}/gviz/tq?tqx=out:csv&sheet={sheet_name}\"\n",
    "results_df = pd.read_csv(url).fillna('')\n",
    "results_df.head(50)"
   ]
  },
  {
   "cell_type": "code",
   "execution_count": null,
   "metadata": {},
   "outputs": [],
   "source": [
    "# Match Results Google Sheet\n",
    "# gc = gs.service_account(filename='shuffleboard-325614-64ddad20cd94.json')\n",
    "# sh = gc.open_by_url('https://docs.google.com/spreadsheets/d/1RBWOGn_cBeK9qQmSbVz7NE_XGTBwevMVOFWbW9EHGf8/edit#gid=1110865845')\n",
    "# ws = sh.worksheet('Match_Results_2')\n"
   ]
  },
  {
   "cell_type": "code",
   "execution_count": null,
   "metadata": {
    "scrolled": false
   },
   "outputs": [],
   "source": [
    "# Creating Won_Loss Results Table\n",
    "winners = dict(enumerate(results_df['Match Winner']))\n",
    "losers = dict(enumerate(results_df['Match Loser']))\n",
    "winners.update(losers)\n",
    "players = winners\n",
    "wins = results_df['player1'].value_counts()\n",
    "losses = results_df['player2'].value_counts()\n",
    "w_l = pd.concat([wins,losses],axis=1).fillna(0).astype(int).round().rename(columns={'player1':'Wins','player2':'Losses'})\n",
    "w_l.loc[:,'Matches']=w_l.sum(numeric_only=True, axis=1)\n",
    "w_l['Win%%'] = w_l['Wins']/w_l['Matches']\n",
    "w_l['Player']=w_l.index\n",
    "column_names = ['Player',\"Matches\", \"Wins\", \"Losses\", \"Win%\"]\n",
    "w_l['Win%'] = w_l['Win%'].round(3)\n",
    "w_l = w_l.reindex(columns=column_names)\n",
    "w_l = w_l.reset_index(drop=True)\n",
    "w_l.head(5)"
   ]
  },
  {
   "cell_type": "code",
   "execution_count": null,
   "metadata": {},
   "outputs": [],
   "source": [
    "# Rankings\n",
    "rankings_df = pd.read_csv('Rankings.csv')\n",
    "rankings_df.drop_duplicates(subset=['Player'],inplace=True)\n",
    "rankings_df.set_index(['Player'],inplace=True,drop=False)\n",
    "rankings_df.loc[:,'ELO']=1600\n",
    "initial_ranking = 1600\n",
    "k_factor = 32\n",
    "rankings_df.head(20)"
   ]
  },
  {
   "cell_type": "code",
   "execution_count": null,
   "metadata": {
    "scrolled": true
   },
   "outputs": [],
   "source": [
    "# ELO Formula\n",
    "def elo_formula(p1_ranking,p2_ranking,p1_score,p2_score,k_factor):\n",
    "    R1 = 10**(p1_ranking/400)\n",
    "    R2 = 10**(p2_ranking/400)\n",
    "    exp_1 = R1/(R1+R2)\n",
    "    exp_2 = R2/(R1+R2)\n",
    "    ELO_1 = p1_ranking+k_factor*(p1_score-exp_1)\n",
    "    ELO_2 = p2_ranking+k_factor*(p2_score-exp_2)\n",
    "    return ELO_1, ELO_2"
   ]
  },
  {
   "cell_type": "code",
   "execution_count": null,
   "metadata": {},
   "outputs": [],
   "source": [
    "#this loop reads the scores in order starting from the top of the matches\n",
    "#every time you run this loop it will read all of the scores again\n",
    "for idx in results_df.index:\n",
    "    player_1 = results_df.player1[idx]\n",
    "    p1_score = results_df.player1score[idx]\n",
    "    player_2 = results_df.player2[idx]\n",
    "    p2_score = results_df.player2score[idx]\n",
    "    current_rankings_list = list(set(rankings_df.index))\n",
    "    if player_1 in current_rankings_list:\n",
    "        p1_ranking = rankings_df.at[player_1,'ELO']\n",
    "    else:\n",
    "        p1_ranking = initial_ranking\n",
    "    if player_2 in current_rankings_list:\n",
    "        p2_ranking = rankings_df.at[player_2,'ELO']\n",
    "    else:\n",
    "        p2_ranking = initial_ranking\n",
    "    \n",
    "    ELO_1, ELO_2 = elo_formula(p1_ranking,p2_ranking,p1_score,p2_score,k_factor)\n",
    "    \n",
    "    if player_1 in current_rankings_list:\n",
    "        rankings_df.at[player_1,'ELO'] = ELO_1\n",
    "    else:\n",
    "        new_ELO_dict = {'Player':player_1,'ELO':ELO_1}\n",
    "        rankings_df = rankings_df.append(new_ELO_dict, ignore_index=True)\n",
    "        rankings_df.set_index(['Player'],inplace=True,drop=False)\n",
    "    if player_2 in current_rankings_list:\n",
    "        rankings_df.at[player_2,'ELO'] = ELO_2\n",
    "    else:\n",
    "        new_ELO_dict = {'Player':player_2,'ELO':ELO_2}\n",
    "        rankings_df = rankings_df.append(new_ELO_dict, ignore_index=True)\n",
    "        rankings_df.set_index(['Player'],inplace=True,drop=False)\n",
    "rankings_df.reset_index(drop=True,inplace=True)\n",
    "rankings_df.sort_values(by=['ELO'],inplace=True,ascending=False,ignore_index=True)\n",
    "rankings_df.index+=1\n",
    "rankings_df.to_csv('Rankings.csv',index=False)"
   ]
  },
  {
   "cell_type": "code",
   "execution_count": null,
   "metadata": {
    "scrolled": true
   },
   "outputs": [],
   "source": [
    "pd.set_option('display.max_rows', None)\n",
    "rankings_df"
   ]
  },
  {
   "cell_type": "code",
   "execution_count": null,
   "metadata": {},
   "outputs": [],
   "source": [
    "# Formatting and Printing Final Table\n",
    "final_table = w_l.merge(rankings_df, how=\"left\", on=\"Player\")\n",
    "final_table_print = final_table.drop('Matches', axis=1)\n",
    "final_table_print['Ranking'] = final_table_print[[\"ELO\",\"Win%\"]].apply(tuple,axis=1)\\\n",
    "             .rank(ascending=False, method=\"min\").astype(int)\n",
    "column_names = ['Ranking','Player', \"Wins\", \"Losses\", \"Win%\",\"ELO\"]\n",
    "final_table_print = final_table_print.reindex(columns=column_names)\n",
    "final_table_print = final_table_print.sort_values(by=['Ranking','Win%'],ascending=[True,False])\n",
    "final_table_print.to_csv('Rankings_Table.csv',index=False)\n",
    "final_table_print.to_html('Rankings_Table.html',index=False)\n",
    "final_table_print"
   ]
  },
  {
   "cell_type": "code",
   "execution_count": null,
   "metadata": {},
   "outputs": [],
   "source": []
  },
  {
   "cell_type": "code",
   "execution_count": null,
   "metadata": {},
   "outputs": [],
   "source": []
  }
 ],
 "metadata": {
  "kernelspec": {
   "display_name": "Python 3",
   "language": "python",
   "name": "python3"
  },
  "language_info": {
   "codemirror_mode": {
    "name": "ipython",
    "version": 3
   },
   "file_extension": ".py",
   "mimetype": "text/x-python",
   "name": "python",
   "nbconvert_exporter": "python",
   "pygments_lexer": "ipython3",
   "version": "3.9.0"
  }
 },
 "nbformat": 4,
 "nbformat_minor": 4
}
